{
 "cells": [
  {
   "cell_type": "markdown",
   "id": "45d9e1ba",
   "metadata": {},
   "source": [
    "# 01 - ETL Jugadores\\nCarga `DB_Jugadores.xlsx` en `data/chivas_dw.sqlite`"
   ]
  },
  {
   "cell_type": "code",
   "execution_count": null,
   "id": "5c9eaee6",
   "metadata": {},
   "outputs": [],
   "source": [
    "from pathlib import Path\\nimport pandas as pd\\nfrom chivas_ml.etl.jugadores import load_jugadores_from_excel, write_jugadores_to_sqlite\\n\\nexcel_path = Path('data/raw/DB_Jugadores.xlsx')  # colocá el Excel acá\\nsqlite_path = Path('data/chivas_dw.sqlite')\\n\\ndf = load_jugadores_from_excel(excel_path)\\ndisplay(df.head())\\n\\nwrite_jugadores_to_sqlite(df, sqlite_path)\\nprint('Carga completada 🚀')\\n"
   ]
  }
 ],
 "metadata": {},
 "nbformat": 4,
 "nbformat_minor": 5
}
