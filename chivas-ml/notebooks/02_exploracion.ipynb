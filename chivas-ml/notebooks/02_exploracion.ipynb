{
 "cells": [
  {
   "cell_type": "markdown",
   "id": "a70247bc",
   "metadata": {},
   "source": [
    "# 02 - Exploración de datos"
   ]
  },
  {
   "cell_type": "code",
   "execution_count": null,
   "id": "3ef6d2c9",
   "metadata": {},
   "outputs": [],
   "source": [
    "import pandas as pd\\nimport sqlite3\\n\\nconn = sqlite3.connect('data/chivas_dw.sqlite')\\ndf_j = pd.read_sql('SELECT * FROM DB_Jugadores', conn)\\ndisplay(df_j.head())\\nprint(f'Jugadores cargados: {len(df_j)}')\\n"
   ]
  }
 ],
 "metadata": {},
 "nbformat": 4,
 "nbformat_minor": 5
}
